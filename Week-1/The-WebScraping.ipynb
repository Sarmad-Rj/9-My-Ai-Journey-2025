{
 "cells": [
  {
   "cell_type": "code",
   "execution_count": 8,
   "id": "0c676142-4a4d-42fb-b325-f442999739c9",
   "metadata": {},
   "outputs": [],
   "source": [
    "from bs4 import BeautifulSoup\n",
    "import requests"
   ]
  },
  {
   "cell_type": "code",
   "execution_count": 11,
   "id": "4215a68f-b75b-4251-8432-5e6d33522ad9",
   "metadata": {},
   "outputs": [
    {
     "name": "stdout",
     "output_type": "stream",
     "text": [
      "Download these documents\n",
      "\n",
      "  Welcome! This is the official documentation for Python 3.13.5.\n",
      "  \n",
      "Documentation sections:\n",
      "What's new in Python 3.13?\n",
      " Or all \"What's new\" documents since Python 2.0\n",
      "Tutorial\n",
      "Start here: a tour of Python's syntax and features\n",
      "Library reference\n",
      "Standard library and builtins\n",
      "Language reference\n",
      "Syntax and language elements\n",
      "Python setup and usage\n",
      "How to install, configure, and use Python\n",
      "Python HOWTOs\n",
      "In-depth topic manuals\n",
      "Installing Python modules\n",
      "Third-party modules and PyPI.org\n",
      "Distributing Python modules\n",
      "Publishing modules for use by other people\n",
      "Extending and embedding\n",
      "For C/C++ programmers\n",
      "Python's C API\n",
      "C API reference\n",
      "FAQs\n",
      "Frequently asked questions (with answers!)\n",
      "Deprecations\n",
      "Deprecated functionality\n",
      "Indices, glossary, and search:\n",
      "Global module index\n",
      "All modules and libraries\n",
      "General index\n",
      "All functions, classes, and terms\n",
      "Glossary\n",
      "Terms explained\n",
      "Search page\n",
      "Search this documentation\n",
      "Complete table of contents\n",
      "Lists all sections and subsections\n",
      "Project information:\n",
      "Reporting issues\n",
      "Contributing to docs\n",
      "Download the documentation\n",
      "History and license of Python\n",
      "Copyright\n",
      "About the documentation\n",
      "Download these documents\n"
     ]
    }
   ],
   "source": [
    "response = requests.get('https://docs.python.org/3/')\n",
    "# response = requests.get('https://en.wikipedia.org/wiki/Rohan%2C_Middle-earth')\n",
    "# if the response is <response 200>, it mean con is succesfull\n",
    "content = response.text\n",
    "\n",
    "soup = BeautifulSoup(content, 'html.parser') # BeautifulSoap is used for parsing like find any tags and then remove the tags\n",
    "data = soup.find_all('p')\n",
    "for i in data:\n",
    "    print(i.get_text())"
   ]
  },
  {
   "cell_type": "code",
   "execution_count": 7,
   "id": "708c5cbb-1efa-4a3c-8d4a-aa09e05e1591",
   "metadata": {},
   "outputs": [
    {
     "name": "stdout",
     "output_type": "stream",
     "text": [
      "name\n"
     ]
    }
   ],
   "source": [
    "print(\"name\")"
   ]
  },
  {
   "cell_type": "code",
   "execution_count": null,
   "id": "37b05dea-3af6-4500-86c8-7b60018c8fd3",
   "metadata": {},
   "outputs": [],
   "source": []
  }
 ],
 "metadata": {
  "kernelspec": {
   "display_name": "Python 3 (ipykernel)",
   "language": "python",
   "name": "python3"
  },
  "language_info": {
   "codemirror_mode": {
    "name": "ipython",
    "version": 3
   },
   "file_extension": ".py",
   "mimetype": "text/x-python",
   "name": "python",
   "nbconvert_exporter": "python",
   "pygments_lexer": "ipython3",
   "version": "3.13.5"
  }
 },
 "nbformat": 4,
 "nbformat_minor": 5
}
