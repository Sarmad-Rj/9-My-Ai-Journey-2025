{
 "cells": [
  {
   "cell_type": "code",
   "execution_count": 2,
   "id": "5d86e377-5c59-4a1a-a38b-668e0c5ac27a",
   "metadata": {},
   "outputs": [
    {
     "name": "stdout",
     "output_type": "stream",
     "text": [
      "aliii\n"
     ]
    }
   ],
   "source": [
    "print(\"aliii\")"
   ]
  },
  {
   "cell_type": "code",
   "execution_count": 4,
   "id": "9245f6e5-06fd-453b-9538-639d7d0bcc21",
   "metadata": {},
   "outputs": [
    {
     "name": "stdout",
     "output_type": "stream",
     "text": [
      "[0, 1, 3, 4, 6]\n"
     ]
    }
   ],
   "source": [
    "list=[3,4,6,0,1]\n",
    "list.sort()\n",
    "# list.sort(reverse=True)\n",
    "print(list)"
   ]
  },
  {
   "cell_type": "code",
   "execution_count": 7,
   "id": "a2e78ac1-1689-4535-bfbc-53530ea5f003",
   "metadata": {},
   "outputs": [
    {
     "name": "stdout",
     "output_type": "stream",
     "text": [
      "Initial blank List: \n",
      "[]\n",
      "\n",
      "List after Addition of elements from 1-4: \n",
      "[1, 2, 3, 4]\n",
      "\n",
      "List after Addition of a Tuple: \n",
      "[1, 2, 3, 4, 6]\n"
     ]
    }
   ],
   "source": [
    "List = []\n",
    "print(\"Initial blank List: \")\n",
    "print(List)\n",
    "for i in range(1, 5):\n",
    "    List.append(i)\n",
    "print(\"\\nList after Addition of elements from 1-4: \")\n",
    "print(List)\n",
    "List.insert(5, 6)\n",
    "print(\"\\nList after Addition of a Tuple: \")\n",
    "print(List)\n"
   ]
  },
  {
   "cell_type": "code",
   "execution_count": 10,
   "id": "0660ef72-e4d6-4f81-91c0-66a868d13ede",
   "metadata": {},
   "outputs": [
    {
     "name": "stdout",
     "output_type": "stream",
     "text": [
      "[1 2 3 4 5]\n"
     ]
    }
   ],
   "source": [
    "import numpy as np"
   ]
  },
  {
   "cell_type": "code",
   "execution_count": 11,
   "id": "1cffceb3-e755-45c3-92c6-ff681099fa2d",
   "metadata": {},
   "outputs": [],
   "source": [
    "arr = np.array([1, 2, 3, 4, 5])\n",
    "print(arr)"
   ]
  },
  {
   "cell_type": "code",
   "execution_count": 13,
   "id": "ebfbbc24-a732-4c85-ae37-198e23bd7c4f",
   "metadata": {},
   "outputs": [
    {
     "name": "stdout",
     "output_type": "stream",
     "text": [
      "Mean: 3.0\n"
     ]
    }
   ],
   "source": [
    "arr = np.array([1, 2, 3, 4, 5])\n",
    "mean_value = np.mean(arr)\n",
    "print(\"Mean:\", mean_value)\n"
   ]
  },
  {
   "cell_type": "code",
   "execution_count": null,
   "id": "0cc6e46c-af73-45cf-be72-abb478f87dd1",
   "metadata": {},
   "outputs": [],
   "source": []
  }
 ],
 "metadata": {
  "kernelspec": {
   "display_name": "Python 3 (ipykernel)",
   "language": "python",
   "name": "python3"
  },
  "language_info": {
   "codemirror_mode": {
    "name": "ipython",
    "version": 3
   },
   "file_extension": ".py",
   "mimetype": "text/x-python",
   "name": "python",
   "nbconvert_exporter": "python",
   "pygments_lexer": "ipython3",
   "version": "3.13.5"
  }
 },
 "nbformat": 4,
 "nbformat_minor": 5
}
