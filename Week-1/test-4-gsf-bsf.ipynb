{
 "cells": [
  {
   "cell_type": "code",
   "execution_count": 7,
   "id": "795440fc-a777-4a87-8e3a-e9a7dc9e7051",
   "metadata": {},
   "outputs": [
    {
     "name": "stdout",
     "output_type": "stream",
     "text": [
      "1,4,8,7,12,11,3,2,6,5,10,9,"
     ]
    }
   ],
   "source": [
    "from collections import deque\n",
    "graph = {\n",
    "'1' : ['2','3','4'],\n",
    "'2' : ['5','6'],\n",
    "'5' : ['9','10'],\n",
    "'4' : ['7','8'],\n",
    "'7' : ['11','12'],\n",
    "'6' : [],\n",
    "'9' : [],\n",
    "'10' : [],\n",
    "'3' : [],\n",
    "'8' : [],\n",
    "'11' : [],\n",
    "'12' : []\n",
    "}\n",
    "\n",
    "start = '1'\n",
    "visited = set()\n",
    "queue = deque([start])\n",
    "\n",
    "while queue:\n",
    "    node = queue.pop()\n",
    "\n",
    "    if node not in visited:\n",
    "        print(node, end=',')\n",
    "        visited.add(node)\n",
    "\n",
    "    for i in graph[node]:\n",
    "        queue.append(i)\n",
    "        \n",
    "\n",
    "        \n",
    "\n"
   ]
  },
  {
   "cell_type": "code",
   "execution_count": null,
   "id": "9bcf90ad-05ff-4323-a54f-c4ed93a2e0ac",
   "metadata": {},
   "outputs": [],
   "source": [
    "# 1. webscraping project\n",
    "# 2. \n",
    "# 3.\n",
    "# 4.\n"
   ]
  }
 ],
 "metadata": {
  "kernelspec": {
   "display_name": "Python 3 (ipykernel)",
   "language": "python",
   "name": "python3"
  },
  "language_info": {
   "codemirror_mode": {
    "name": "ipython",
    "version": 3
   },
   "file_extension": ".py",
   "mimetype": "text/x-python",
   "name": "python",
   "nbconvert_exporter": "python",
   "pygments_lexer": "ipython3",
   "version": "3.13.5"
  }
 },
 "nbformat": 4,
 "nbformat_minor": 5
}
