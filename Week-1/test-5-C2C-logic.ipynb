{
 "cells": [
  {
   "cell_type": "code",
   "execution_count": 3,
   "id": "59a61bbc-5c12-4b36-a486-337e62a05e5f",
   "metadata": {},
   "outputs": [
    {
     "name": "stdout",
     "output_type": "stream",
     "text": [
      "ali\n"
     ]
    }
   ],
   "source": [
    "print(\"ali\")"
   ]
  },
  {
   "cell_type": "code",
   "execution_count": 4,
   "id": "10b72272-f1ec-4a17-a50f-9897ef25d591",
   "metadata": {},
   "outputs": [
    {
     "name": "stdout",
     "output_type": "stream",
     "text": [
      "<Response [200]>\n"
     ]
    }
   ],
   "source": [
    "from bs4 import BeautifulSoup\n",
    "import requests\n",
    "\n",
    "cmc = requests.get('https://coinmarketcap.com/')\n",
    "print(cmc)"
   ]
  },
  {
   "cell_type": "code",
   "execution_count": 121,
   "id": "d7408397-de83-4586-a896-e105355b042c",
   "metadata": {},
   "outputs": [],
   "source": [
    "content = cmc.text\n",
    "# print(content)"
   ]
  },
  {
   "cell_type": "code",
   "execution_count": 122,
   "id": "0c241e2c-49b7-450b-9766-188b533269bc",
   "metadata": {},
   "outputs": [],
   "source": [
    "soup = BeautifulSoup(content, 'html.parser')\n",
    "# print(soup)"
   ]
  },
  {
   "cell_type": "code",
   "execution_count": 124,
   "id": "ff27f75b-1d06-4885-ae73-1787adf22f6a",
   "metadata": {},
   "outputs": [
    {
     "name": "stdout",
     "output_type": "stream",
     "text": [
      "1. Bitcoin\n",
      "2. Ethereum\n",
      "3. XRP\n",
      "4. Tether\n",
      "5. BNB\n",
      "6. Solana\n",
      "7. USDC\n",
      "8. Dogecoin\n",
      "9. TRON\n",
      "10. Cardano\n"
     ]
    }
   ],
   "source": [
    "coinName = soup.find_all('p', class_='sc-65e7f566-0 iPbTJf coin-item-name')\n",
    "\n",
    "# print(data)\n",
    "for index, i in enumerate(coinName, start=1):\n",
    "    print(f\"{index}. {i.get_text()}\")"
   ]
  },
  {
   "cell_type": "code",
   "execution_count": 127,
   "id": "28968010-5098-47b8-a529-4088c04fb8ab",
   "metadata": {},
   "outputs": [
    {
     "name": "stdout",
     "output_type": "stream",
     "text": [
      "1. BTC\n",
      "2. ETH\n",
      "3. XRP\n",
      "4. USDT\n",
      "5. BNB\n",
      "6. SOL\n",
      "7. USDC\n",
      "8. DOGE\n",
      "9. TRX\n",
      "10. ADA\n",
      "BTC\n",
      "ETH\n",
      "XRP\n",
      "USDT\n",
      "BNB\n",
      "SOL\n",
      "USDC\n",
      "DOGE\n",
      "TRX\n",
      "ADA\n"
     ]
    }
   ],
   "source": [
    "coinSymbol = soup.find_all( class_='sc-65e7f566-0 byYAWx coin-item-symbol')\n",
    "\n",
    "for index, i in enumerate(coinSymbol, start=1):\n",
    "    print(f\"{index}. {i.get_text()}\")\n",
    "\n",
    "for i in coinSymbol:\n",
    "    print(i.get_text())"
   ]
  },
  {
   "cell_type": "code",
   "execution_count": 128,
   "id": "5445c148-371b-4730-a002-e028cd554d83",
   "metadata": {},
   "outputs": [
    {
     "name": "stdout",
     "output_type": "stream",
     "text": [
      "1. $118,319.91\n",
      "2. $3,797.98\n",
      "3. $3.10\n",
      "4. $0.9999\n",
      "5. $799.65\n",
      "6. $179.61\n",
      "7. $0.9998\n",
      "8. $0.2207\n",
      "9. $0.3351\n",
      "10. $0.7723\n"
     ]
    }
   ],
   "source": [
    "# sc-142c02c-0 lmjbLF fall\n",
    "\n",
    "coinPrice = soup.find_all(class_='sc-142c02c-0 lmjbLF')\n",
    "\n",
    "for index, i in enumerate(coinPrice, start=1):\n",
    "    print(f\"{index}. {i.get_text()}\")\n"
   ]
  },
  {
   "cell_type": "code",
   "execution_count": 39,
   "id": "8679a0a6-69eb-4831-a329-13cb5ee879be",
   "metadata": {},
   "outputs": [
    {
     "name": "stdout",
     "output_type": "stream",
     "text": [
      "Connection is successful\n"
     ]
    },
    {
     "name": "stdin",
     "output_type": "stream",
     "text": [
      "Enter the coin name to search:  bitcoin\n"
     ]
    },
    {
     "name": "stdout",
     "output_type": "stream",
     "text": [
      "Found\n"
     ]
    }
   ],
   "source": [
    "if response:\n",
    "    print(\"Connection is successful\")\n",
    "    coin = input(\"Enter the coin name to search: \")\n",
    "    found = False  \n",
    "    for i in coinName:\n",
    "        if coin.lower() == i.get_text().lower():  \n",
    "            print(\"Found\")\n",
    "            found = True\n",
    "            break\n",
    "    if not found:\n",
    "        print(\"Not Found\")\n",
    "else:\n",
    "    print(\"No internet Connection!\")\n"
   ]
  },
  {
   "cell_type": "code",
   "execution_count": 96,
   "id": "4f0b97cc-e23d-41b5-9980-aa15f7495094",
   "metadata": {},
   "outputs": [
    {
     "name": "stdin",
     "output_type": "stream",
     "text": [
      "Enter the coin name to check price:  xrp\n"
     ]
    },
    {
     "name": "stdout",
     "output_type": "stream",
     "text": [
      "XRP: $3.13\n"
     ]
    }
   ],
   "source": [
    "coin = input(\"Enter the coin name to check price: \")\n",
    "found = False\n",
    "\n",
    "for index, name in enumerate(coinName):\n",
    "    if coin.lower() == name.get_text().lower():\n",
    "        found = True\n",
    "        price = coinPrice[index].get_text()\n",
    "        print(f\"{name.get_text()}: {price}\")\n",
    "\n",
    "if not found:\n",
    "    print(\"Coin Not Found\")\n"
   ]
  },
  {
   "cell_type": "code",
   "execution_count": 54,
   "id": "73fddd28-3d13-4c43-bae4-2c8747c0a36f",
   "metadata": {},
   "outputs": [
    {
     "name": "stdout",
     "output_type": "stream",
     "text": [
      "Current Dollar Price is:\n",
      "283.0500\n"
     ]
    }
   ],
   "source": [
    "print(\"Current Dollar Price is:\")\n",
    "\n",
    "dtp = requests.get('https://www.google.com/finance/quote/USD-PKR?sa=X&sqi=2&ved=2ahUKEwjp26zS9OOOAxX5AfsDHfsBEUcQmY0JegQIChAv')\n",
    "content = dtp.text\n",
    "soup = BeautifulSoup(content, 'html.parser')\n",
    "final = soup.find_all('div', class_='YMlKec fxKbKc')\n",
    "if final:\n",
    "    dollarPrice = final[0].get_text()\n",
    "    print(dollarPrice)\n",
    "else:\n",
    "    print(\"Price not found.\")"
   ]
  },
  {
   "cell_type": "code",
   "execution_count": 56,
   "id": "fe4f5faa-2d92-4078-83d0-58ed8ac5d844",
   "metadata": {},
   "outputs": [
    {
     "name": "stdout",
     "output_type": "stream",
     "text": [
      "Dollar Price is:  283.0500\n"
     ]
    }
   ],
   "source": [
    "print(\"Dollar Price is: \", dollarPrice)"
   ]
  },
  {
   "cell_type": "code",
   "execution_count": 88,
   "id": "4b732e0a-ecac-4c7b-af7d-8b9b7b976400",
   "metadata": {},
   "outputs": [
    {
     "name": "stdin",
     "output_type": "stream",
     "text": [
      "Enter the coin name to check price:  xrp\n"
     ]
    },
    {
     "name": "stdout",
     "output_type": "stream",
     "text": [
      "XRP: 885.95 Pkr\n"
     ]
    }
   ],
   "source": [
    "coinToCheckPrice = input(\"Enter the coin name to check price: \")\n",
    "found = False\n",
    "\n",
    "for index, n in enumerate(coinName):\n",
    "    if coinToCheckPrice.lower() == n.get_text().lower():\n",
    "        found = True\n",
    "        \n",
    "        priceInDollar = coinPrice[index].get_text()\n",
    "\n",
    "        clean_price = float(priceInDollar.replace('$', '').replace(',', ''))\n",
    "        \n",
    "        if dollarPrice:\n",
    "            priceInPkr = clean_price * float(dollarPrice)\n",
    "            print(f\"{n.get_text()}: {priceInPkr:.2f} Pkr\")\n",
    "\n",
    "if not found:\n",
    "    print(\"Coin Not Found\")\n",
    "    "
   ]
  },
  {
   "cell_type": "code",
   "execution_count": 100,
   "id": "b47f3b83-8668-4240-b94a-b08871f84d63",
   "metadata": {},
   "outputs": [
    {
     "data": {
      "text/plain": [
       "118056"
      ]
     },
     "execution_count": 100,
     "metadata": {},
     "output_type": "execute_result"
    }
   ],
   "source": [
    "import requests\n",
    "\n",
    "def get_crypto_price(crypto_id='bitcoin', currency='usd'):\n",
    "    url = f\"https://api.coingecko.com/api/v3/simple/price?ids={crypto_id}&vs_currencies={currency}\"\n",
    "    response = requests.get(url)\n",
    "    return response.json().get(crypto_id, {}).get(currency)\n",
    "\n",
    "get_crypto_price()\n"
   ]
  },
  {
   "cell_type": "code",
   "execution_count": 1,
   "id": "0c829fdb-0564-468e-b8d2-25ffe95b8c39",
   "metadata": {},
   "outputs": [
    {
     "name": "stdout",
     "output_type": "stream",
     "text": [
      "AED,AFN,ALL,AMD,ANG,AOA,ARS,AUD,AWG,AZN,BAM,BBD,BDT,BGN,BHD,BIF,BMD,BND,BOB,BRL,BSD,BTN,BWP,BYN,BZD,CAD,CDF,CHF,CLP,CNY,COP,CRC,CUP,CVE,CZK,DJF,DKK,DOP,DZD,EGP,ERN,ETB,EUR,FJD,FKP,FOK,GBP,GEL,GGP,GHS,GIP,GMD,GNF,GTQ,GYD,HKD,HNL,HRK,HTG,HUF,IDR,ILS,IMP,INR,IQD,IRR,ISK,JEP,JMD,JOD,JPY,KES,KGS,KHR,KID,KMF,KRW,KWD,KYD,KZT,LAK,LBP,LKR,LRD,LSL,LYD,MAD,MDL,MGA,MKD,MMK,MNT,MOP,MRU,MUR,MVR,MWK,MXN,MYR,MZN,NAD,NGN,NIO,NOK,NPR,NZD,OMR,PAB,PEN,PGK,PHP,PKR,PLN,PYG,QAR,RON,RSD,RUB,RWF,SAR,SBD,SCR,SDG,SEK,SGD,SHP,SLE,SOS,SRD,SSP,STN,SYP,SZL,THB,TJS,TMT,TND,TOP,TRY,TTD,TVD,TWD,TZS,UAH,UGX,USD,UYU,UZS,VES,VND,VUV,WST,XAF,XCD,XOF,XPF,YER,ZAR,ZMW,ZWL,145\n"
     ]
    }
   ],
   "source": [
    "currency_codes = [\n",
    "    \"AED\", \"AFN\", \"ALL\", \"AMD\", \"ANG\", \"AOA\", \"ARS\", \"AUD\", \"AWG\", \"AZN\",\n",
    "    \"BAM\", \"BBD\", \"BDT\", \"BGN\", \"BHD\", \"BIF\", \"BMD\", \"BND\", \"BOB\", \"BRL\",\n",
    "    \"BSD\", \"BTN\", \"BWP\", \"BYN\", \"BZD\", \"CAD\", \"CDF\", \"CHF\", \"CLP\", \"CNY\",\n",
    "    \"COP\", \"CRC\", \"CUP\", \"CVE\", \"CZK\", \"DJF\", \"DKK\", \"DOP\", \"DZD\", \"EGP\",\n",
    "    \"ERN\", \"ETB\", \"EUR\", \"FJD\", \"FKP\", \"FOK\", \"GBP\", \"GEL\", \"GGP\", \"GHS\",\n",
    "    \"GIP\", \"GMD\", \"GNF\", \"GTQ\", \"GYD\", \"HKD\", \"HNL\", \"HRK\", \"HTG\", \"HUF\",\n",
    "    \"IDR\", \"ILS\", \"IMP\", \"INR\", \"IQD\", \"IRR\", \"ISK\", \"JEP\", \"JMD\", \"JOD\",\n",
    "    \"JPY\", \"KES\", \"KGS\", \"KHR\", \"KID\", \"KMF\", \"KRW\", \"KWD\", \"KYD\", \"KZT\",\n",
    "    \"LAK\", \"LBP\", \"LKR\", \"LRD\", \"LSL\", \"LYD\", \"MAD\", \"MDL\", \"MGA\", \"MKD\",\n",
    "    \"MMK\", \"MNT\", \"MOP\", \"MRU\", \"MUR\", \"MVR\", \"MWK\", \"MXN\", \"MYR\", \"MZN\",\n",
    "    \"NAD\", \"NGN\", \"NIO\", \"NOK\", \"NPR\", \"NZD\", \"OMR\", \"PAB\", \"PEN\", \"PGK\",\n",
    "    \"PHP\", \"PKR\", \"PLN\", \"PYG\", \"QAR\", \"RON\", \"RSD\", \"RUB\", \"RWF\", \"SAR\",\n",
    "    \"SBD\", \"SCR\", \"SDG\", \"SEK\", \"SGD\", \"SHP\", \"SLE\", \"SOS\", \"SRD\", \"SSP\",\n",
    "    \"STN\", \"SYP\", \"SZL\", \"THB\", \"TJS\", \"TMT\", \"TND\", \"TOP\", \"TRY\", \"TTD\",\n",
    "    \"TVD\", \"TWD\", \"TZS\", \"UAH\", \"UGX\", \"USD\", \"UYU\", \"UZS\", \"VES\", \"VND\",\n",
    "    \"VUV\", \"WST\", \"XAF\", \"XCD\", \"XOF\", \"XPF\", \"YER\", \"ZAR\", \"ZMW\", \"ZWL\"\n",
    "]\n",
    "\n",
    "country_to_currency = {\n",
    "    \"US\": \"USD\",\n",
    "    \"PK\": \"PKR\",\n",
    "    \"IN\": \"INR\",\n",
    "    \"GB\": \"GBP\",\n",
    "    \"CA\": \"CAD\",\n",
    "    \"AU\": \"AUD\",\n",
    "    \"AE\": \"AED\",\n",
    "    \"JP\": \"JPY\",\n",
    "    \"CN\": \"CNY\",\n",
    "    \"FR\": \"EUR\",\n",
    "    \"DE\": \"EUR\",\n",
    "    \"IT\": \"EUR\",\n",
    "    \"ES\": \"EUR\",\n",
    "    \"SA\": \"SAR\",\n",
    "    \"QA\": \"QAR\",\n",
    "    \"KW\": \"KWD\",\n",
    "    \"BD\": \"BDT\",\n",
    "    \"NP\": \"NPR\",\n",
    "    \"MY\": \"MYR\",\n",
    "    \"TH\": \"THB\",\n",
    "    \"ID\": \"IDR\",\n",
    "    \"SG\": \"SGD\",\n",
    "    \"PH\": \"PHP\",\n",
    "    \"ZA\": \"ZAR\",\n",
    "    \"NG\": \"NGN\",\n",
    "    \"RU\": \"RUB\",\n",
    "    \"BR\": \"BRL\",\n",
    "    \"MX\": \"MXN\"\n",
    "}\n",
    "\n",
    "for i in currency_codes:\n",
    "    print(i, end=\",\")\n",
    "\n",
    "a = currency_codes.index('USD')\n",
    "print(a)"
   ]
  },
  {
   "cell_type": "code",
   "execution_count": 112,
   "id": "74094bab-7d66-43ca-92c0-cbf3e9e8848a",
   "metadata": {},
   "outputs": [
    {
     "name": "stdout",
     "output_type": "stream",
     "text": [
      "PK\n"
     ]
    }
   ],
   "source": [
    "import streamlit as st\n",
    "import requests\n",
    "\n",
    "def get_user_location():\n",
    "    try:\n",
    "        ip = requests.get(\"https://api.ipify.org\").text\n",
    "        res = requests.get(f\"https://ipinfo.io/{ip}/json\")\n",
    "        data = res.json()\n",
    "        return {\n",
    "            \"ip\": ip,\n",
    "            \"city\": data.get(\"city\"),\n",
    "            \"region\": data.get(\"region\"),\n",
    "            \"country\": data.get(\"country\"),\n",
    "            \"loc\": data.get(\"loc\")  # latitude,longitude\n",
    "        }\n",
    "    except Exception as e:\n",
    "        return {\"error\": str(e)}\n",
    "\n",
    "\n",
    "print(location['country'])"
   ]
  },
  {
   "cell_type": "code",
   "execution_count": 134,
   "id": "3285db9f-d340-4183-b829-1b837679e765",
   "metadata": {},
   "outputs": [
    {
     "name": "stdout",
     "output_type": "stream",
     "text": [
      "283.9559\n"
     ]
    }
   ],
   "source": [
    "# 2. Get Dollar price conversion page\n",
    "usd_to_all = requests.get(f\"https://www.google.com/finance/quote/USD-PKR\")\n",
    "content_pg = usd_to_all.text\n",
    "\n",
    "# Parse HTML\n",
    "soup2 = BeautifulSoup(content_pg, 'html.parser')\n",
    "\n",
    "# Extract currency price\n",
    "currency_price_tags = soup2.find_all(class_='YMlKec fxKbKc')\n",
    "currency_price = currency_price_tags[0].get_text()\n",
    "\n",
    "print(currency_price)"
   ]
  },
  {
   "cell_type": "code",
   "execution_count": 9,
   "id": "b48a59c9-bdce-4357-b0c1-fa7ef46eb404",
   "metadata": {},
   "outputs": [
    {
     "name": "stdout",
     "output_type": "stream",
     "text": [
      "77.1168\n"
     ]
    }
   ],
   "source": [
    "selcted_Currency_1 = \"AED\"\n",
    "selcted_Currency_2 = \"PKR\"\n",
    "# 2. Get price conversion page\n",
    "usd_to_all = requests.get(f\"https://www.google.com/finance/quote/{selcted_Currency_1}-{selcted_Currency_2}\")\n",
    "content_pg = usd_to_all.text\n",
    "\n",
    "# Parse HTML\n",
    "soup2 = BeautifulSoup(content_pg, 'html.parser')\n",
    "\n",
    "# Extract currency price\n",
    "currency_price_tags = soup2.find_all(class_='YMlKec fxKbKc')\n",
    "currency_price = currency_price_tags[0].get_text()\n",
    "\n",
    "print(currency_price)"
   ]
  },
  {
   "cell_type": "code",
   "execution_count": 12,
   "id": "742c8214-8a65-4161-b149-935962bfc7fc",
   "metadata": {},
   "outputs": [
    {
     "name": "stdout",
     "output_type": "stream",
     "text": [
      "True\n"
     ]
    }
   ],
   "source": [
    "import socket\n",
    "\n",
    "def is_connected():\n",
    "    try:\n",
    "        socket.create_connection((\"8.8.8.8\", 53), timeout=1)\n",
    "        return True\n",
    "    except OSError:\n",
    "        return False\n",
    "\n",
    "print(is_connected())"
   ]
  },
  {
   "cell_type": "code",
   "execution_count": null,
   "id": "3a1529e2-3277-4ae8-9c37-33e8c5e20ef6",
   "metadata": {},
   "outputs": [],
   "source": [
    "\n",
    "\n",
    "# -----------------------------------Testing---------------------------------------\n",
    "# st.success(\"Data fetched successfully!\")\n",
    "# st.warning(\"Coin not found!\")\n",
    "# st.sidebar.image(\"https://cdn-icons-png.flaticon.com/512/825/825518.png\", width=70)\n",
    "# st.sidebar.title(\"Currency Tools\")\n",
    "\n",
    "\n",
    "\n",
    "# def get_user_location():\n",
    "#     try:\n",
    "#         ip = requests.get(\"https://api.ipify.org\").text\n",
    "#         res = requests.get(f\"https://ipinfo.io/{ip}/json\")\n",
    "#         data = res.json()\n",
    "#         return {\n",
    "#             \"ip\": ip,\n",
    "#             \"city\": data.get(\"city\"),\n",
    "#             \"region\": data.get(\"region\"),\n",
    "#             \"country\": data.get(\"country\"),\n",
    "#             \"loc\": data.get(\"loc\")  # latitude,longitude\n",
    "#         }\n",
    "#     except Exception as e:\n",
    "#         return {\"error\": str(e)}\n",
    "\n",
    "# # Streamlit UI\n",
    "# st.title(\"🌍 Detect Your Location\")\n",
    "# location = get_user_location()\n",
    "\n",
    "# if \"error\" in location:\n",
    "#     st.error(\"Failed to detect location\")\n",
    "# else:\n",
    "#     st.write(f\"IP: {location['ip']}\")\n",
    "#     st.write(f\"City: {location['city']}\")\n",
    "#     st.write(f\"Region: {location['region']}\")\n",
    "#     st.write(f\"Country: {location['country']}\")\n",
    "#     st.write(f\"Coordinates: {location['loc']}\")\n",
    "\n",
    "\n",
    "\n",
    "# def get_crypto_price(crypto_id='ripple', currency='usd'):\n",
    "#     url = f\"https://api.coingecko.com/api/v3/simple/price?ids={crypto_id}&vs_currencies={currency}\"\n",
    "#     response = requests.get(url)\n",
    "#     return response.json().get(crypto_id, {}).get(currency)\n"
   ]
  }
 ],
 "metadata": {
  "kernelspec": {
   "display_name": "Python 3 (ipykernel)",
   "language": "python",
   "name": "python3"
  },
  "language_info": {
   "codemirror_mode": {
    "name": "ipython",
    "version": 3
   },
   "file_extension": ".py",
   "mimetype": "text/x-python",
   "name": "python",
   "nbconvert_exporter": "python",
   "pygments_lexer": "ipython3",
   "version": "3.13.5"
  }
 },
 "nbformat": 4,
 "nbformat_minor": 5
}
