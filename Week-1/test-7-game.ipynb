{
 "cells": [
  {
   "cell_type": "code",
   "execution_count": 1,
   "id": "46f1b7ff-d77b-4084-a4ec-de0455cd0c04",
   "metadata": {},
   "outputs": [
    {
     "name": "stdout",
     "output_type": "stream",
     "text": [
      "game\n"
     ]
    }
   ],
   "source": [
    "print(\"game\")"
   ]
  },
  {
   "cell_type": "code",
   "execution_count": 19,
   "id": "59b292ab-b575-4ea0-ac23-3aa53e125c3f",
   "metadata": {},
   "outputs": [
    {
     "name": "stdin",
     "output_type": "stream",
     "text": [
      "Enter a number from 1 to 100:  5\n"
     ]
    }
   ],
   "source": [
    "number = int(input(\"Enter a number from 1 to 100: \"))"
   ]
  },
  {
   "cell_type": "code",
   "execution_count": 20,
   "id": "f3f1cbac-0cbc-4486-9f15-6a9f16de6d1c",
   "metadata": {},
   "outputs": [
    {
     "name": "stdout",
     "output_type": "stream",
     "text": [
      "5\n"
     ]
    }
   ],
   "source": [
    "print(number)"
   ]
  },
  {
   "cell_type": "code",
   "execution_count": 6,
   "id": "ae44012a-9e7a-4311-b371-e340df95be1b",
   "metadata": {},
   "outputs": [],
   "source": [
    "import random"
   ]
  },
  {
   "cell_type": "code",
   "execution_count": 12,
   "id": "3b6db13c-c6e1-4683-9fe4-8783b49c20ba",
   "metadata": {},
   "outputs": [],
   "source": [
    "rn = random.randint(1, 10)"
   ]
  },
  {
   "cell_type": "code",
   "execution_count": 21,
   "id": "45d1a64d-9e28-484e-b820-4181c48d31e6",
   "metadata": {},
   "outputs": [
    {
     "name": "stdout",
     "output_type": "stream",
     "text": [
      "Wrong, the number was 4 try again\n"
     ]
    }
   ],
   "source": [
    "if (number == rn):\n",
    "    print(\"Congradulations You guessed the right number\")\n",
    "else:\n",
    "    print(f\"Wrong, the number was {rn} try again\")"
   ]
  },
  {
   "cell_type": "code",
   "execution_count": null,
   "id": "22727fc3-ae6f-4b1e-be3e-56db720f0f98",
   "metadata": {},
   "outputs": [],
   "source": []
  }
 ],
 "metadata": {
  "kernelspec": {
   "display_name": "Python 3 (ipykernel)",
   "language": "python",
   "name": "python3"
  },
  "language_info": {
   "codemirror_mode": {
    "name": "ipython",
    "version": 3
   },
   "file_extension": ".py",
   "mimetype": "text/x-python",
   "name": "python",
   "nbconvert_exporter": "python",
   "pygments_lexer": "ipython3",
   "version": "3.13.5"
  }
 },
 "nbformat": 4,
 "nbformat_minor": 5
}
