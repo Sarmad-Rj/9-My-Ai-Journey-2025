{
 "cells": [
  {
   "cell_type": "code",
   "execution_count": 2,
   "id": "f9078681-ba38-44b0-8838-4dd3632ad594",
   "metadata": {
    "scrolled": true
   },
   "outputs": [],
   "source": [
    "# pip install diffusers\n",
    "# !pip install --upgrade --force-reinstall git+https://github.com/huggingface/diffusers.git\n",
    "# pip install huggingface_hub[hf_xet] # to boost the download speed\n",
    "# pip uninstall huggingface_hub[hf_xet]"
   ]
  },
  {
   "cell_type": "code",
   "execution_count": 2,
   "id": "47baf344-6b68-4041-b980-ace094bd9736",
   "metadata": {},
   "outputs": [],
   "source": [
    "# from diffusers import DiffusionPipeline\n",
    "# from diffusers.utils import load_image\n",
    "\n",
    "# pipe = DiffusionPipeline.from_pretrained(\"black-forest-labs/FLUX.1-Kontext-dev\")\n",
    "\n",
    "# prompt = \"Turn this aura light into devine red aura\"\n",
    "# input_image = load_image(\"sample.jpg\")\n",
    "\n",
    "# image = pipe(image=input_image, prompt=prompt).images[0]"
   ]
  },
  {
   "cell_type": "code",
   "execution_count": null,
   "id": "4a687bda-bc51-436c-b984-f9ce1155dd2b",
   "metadata": {},
   "outputs": [
    {
     "data": {
      "application/vnd.jupyter.widget-view+json": {
       "model_id": "69e09e27f92043938623b4d0b32d2ac7",
       "version_major": 2,
       "version_minor": 0
      },
      "text/plain": [
       "Fetching 23 files:   0%|          | 0/23 [00:00<?, ?it/s]"
      ]
     },
     "metadata": {},
     "output_type": "display_data"
    },
    {
     "data": {
      "application/vnd.jupyter.widget-view+json": {
       "model_id": "e58b68690ea04b0cb48a8a59374b8caa",
       "version_major": 2,
       "version_minor": 0
      },
      "text/plain": [
       "transformer/diffusion_pytorch_model-0000(…):   0%|          | 0.00/9.98G [00:00<?, ?B/s]"
      ]
     },
     "metadata": {},
     "output_type": "display_data"
    },
    {
     "data": {
      "application/vnd.jupyter.widget-view+json": {
       "model_id": "78497977bc73437ab9b7ede869ee2f80",
       "version_major": 2,
       "version_minor": 0
      },
      "text/plain": [
       "transformer/diffusion_pytorch_model-0000(…):   0%|          | 0.00/9.95G [00:00<?, ?B/s]"
      ]
     },
     "metadata": {},
     "output_type": "display_data"
    }
   ],
   "source": [
    "import torch\n",
    "from diffusers import DiffusionPipeline\n",
    "from diffusers.utils import load_image\n",
    "\n",
    "pipe = DiffusionPipeline.from_pretrained(\"black-forest-labs/FLUX.1-Kontext-dev\")\n",
    "\n",
    "prompt = \"Turn this cat into a dog\"\n",
    "input_image = load_image(\"https://huggingface.co/datasets/huggingface/documentation-images/resolve/main/diffusers/cat.png\")\n",
    "\n",
    "image = pipe(image=input_image, prompt=prompt).images[0]\n"
   ]
  },
  {
   "cell_type": "code",
   "execution_count": null,
   "id": "b6c1da26-46cb-459c-81ae-fb76aa1596ac",
   "metadata": {},
   "outputs": [],
   "source": [
    "import torch\n",
    "from diffusers import FluxKontextPipeline\n",
    "from diffusers.utils import load_image\n",
    "\n",
    "pipe = FluxKontextPipeline.from_pretrained(\n",
    "    \"black-forest-labs/FLUX.1-Kontext-dev\",\n",
    "    torch_dtype=torch.bfloat16\n",
    ").to(\"cuda\")\n",
    "\n",
    "prompt = \"Turn this cat into a dog\"\n",
    "input_image = load_image(\"https://huggingface.co/datasets/huggingface/documentation-images/resolve/main/diffusers/cat.png\")\n",
    "\n",
    "image = pipe(image=input_image, prompt=prompt).images[0]\n",
    "image.save(\"cat_to_dog.png\")\n"
   ]
  },
  {
   "cell_type": "code",
   "execution_count": null,
   "id": "3eed2ea2-9613-41f1-a9c1-6896518a1801",
   "metadata": {},
   "outputs": [],
   "source": [
    "print(\"a\")"
   ]
  },
  {
   "cell_type": "code",
   "execution_count": null,
   "id": "41042043-627b-410a-92bd-7178f3625b36",
   "metadata": {},
   "outputs": [],
   "source": []
  }
 ],
 "metadata": {
  "kernelspec": {
   "display_name": "Python [conda env:base] *",
   "language": "python",
   "name": "conda-base-py"
  },
  "language_info": {
   "codemirror_mode": {
    "name": "ipython",
    "version": 3
   },
   "file_extension": ".py",
   "mimetype": "text/x-python",
   "name": "python",
   "nbconvert_exporter": "python",
   "pygments_lexer": "ipython3",
   "version": "3.13.5"
  }
 },
 "nbformat": 4,
 "nbformat_minor": 5
}
