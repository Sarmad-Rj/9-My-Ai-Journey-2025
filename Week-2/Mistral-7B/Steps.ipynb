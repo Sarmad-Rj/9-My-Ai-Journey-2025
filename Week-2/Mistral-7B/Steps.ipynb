{
 "cells": [
  {
   "cell_type": "code",
   "execution_count": 1,
   "id": "c670f49a-23bb-407f-97bd-56012f81da15",
   "metadata": {},
   "outputs": [],
   "source": [
    "# conda create -n mistral-chatbot python=3.10 -y\n",
    "# conda activate mistral-chatbot"
   ]
  },
  {
   "cell_type": "code",
   "execution_count": null,
   "id": "86c7037b-994a-44c0-b6e3-490c2d4eef46",
   "metadata": {},
   "outputs": [],
   "source": [
    "# pip install transformers accelerate bitsandbytes streamlit\n"
   ]
  },
  {
   "cell_type": "code",
   "execution_count": 3,
   "id": "ef5033da-8e9a-4f95-aea6-038dcb49ac39",
   "metadata": {},
   "outputs": [],
   "source": [
    "# i got error so i did this....\n",
    "# pip cache purge\n",
    "# pip install bitsandbytes --no-cache-dir # you use \"pip install bitsandbytes --no-cache-dir --user\" if the internet is bad\n",
    "\n"
   ]
  },
  {
   "cell_type": "code",
   "execution_count": 4,
   "id": "05c4ba18-8ad3-4ba4-b990-7eaa9f82520e",
   "metadata": {},
   "outputs": [],
   "source": [
    "# to install jupyter in new env\n",
    "# pip install notebook\n",
    "# for stram lit: pip install ipywidgets\n",
    "# then just open it: jupyter notebook\n"
   ]
  },
  {
   "cell_type": "code",
   "execution_count": null,
   "id": "bcca3c47-601b-4835-8c32-4a245ef7f481",
   "metadata": {},
   "outputs": [],
   "source": [
    "# pip install transformers\n",
    "# pip install accelerate # you might want to also install accelerate again to ensure GPU support...Restart your Jupyter notebook (Kernel → Restart).\n",
    "# pip install optimum\n"
   ]
  }
 ],
 "metadata": {
  "kernelspec": {
   "display_name": "Python 3 (ipykernel)",
   "language": "python",
   "name": "python3"
  },
  "language_info": {
   "codemirror_mode": {
    "name": "ipython",
    "version": 3
   },
   "file_extension": ".py",
   "mimetype": "text/x-python",
   "name": "python",
   "nbconvert_exporter": "python",
   "pygments_lexer": "ipython3",
   "version": "3.10.18"
  }
 },
 "nbformat": 4,
 "nbformat_minor": 5
}
